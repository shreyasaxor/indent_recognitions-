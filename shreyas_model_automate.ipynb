{
 "cells": [
  {
   "cell_type": "code",
   "execution_count": 1,
   "metadata": {},
   "outputs": [],
   "source": [
    "from rasa_nlu.training_data import load_data\n",
    "from rasa_nlu.config import RasaNLUModelConfig\n",
    "from rasa_nlu.model import Trainer\n",
    "from rasa_nlu import config\n",
    "from rasa_nlu.model import Metadata, Interpreter"
   ]
  },
  {
   "cell_type": "code",
   "execution_count": 2,
   "metadata": {},
   "outputs": [],
   "source": [
    "train_data  = load_data('rasa_data_servers.json')"
   ]
  },
  {
   "cell_type": "code",
   "execution_count": 3,
   "metadata": {},
   "outputs": [
    {
     "name": "stdout",
     "output_type": "stream",
     "text": [
      "{\r\n",
      "    \"rasa_nlu_data\": {\r\n",
      "      \"regex_features\": [\r\n",
      "        {\r\n",
      "          \"name\": \"zipcode\",\r\n",
      "          \"pattern\": \"[0-9]{5}\"\r\n",
      "        },\r\n",
      "        {\r\n",
      "          \"name\": \"greet\",\r\n",
      "          \"pattern\": \"hey[^\\\\s]*\"\r\n",
      "        }\r\n",
      "      ],\r\n",
      "      \"entity_synonyms\": [\r\n",
      "        {\r\n",
      "          \"value\": \"chinese\",\r\n",
      "          \"synonyms\": [\"Chinese\", \"Chines\", \"chines\"]\r\n",
      "        },\r\n",
      "        {\r\n",
      "          \"value\": \"vegetarian\",\r\n",
      "          \"synonyms\": [\"veggie\", \"vegg\"]\r\n",
      "        }\r\n",
      "      ],\r\n",
      "      \"common_examples\": [\r\n",
      "        {\r\n",
      "          \"text\": \"connect to server\", \r\n",
      "          \"intent\": \"login\", \r\n",
      "          \"entities\": []\r\n",
      "        }, \r\n",
      "        \r\n",
      "        {\r\n",
      "          \"text\": \"login to server via ssh\",\r\n",
      "          \"intent\": \"login\",\r\n",
      "          \"entities\": [\r\n",
      "            {\r\n",
      "              \"start\": 9,\r\n",
      "              \"end\": 15,\r\n",
      "              \"value\": \"server\",\r\n",
      "              \"entity\": \"device\"\r\n",
      "            },\r\n",
      "            {\r\n",
      "              \"start\": 20,\r\n",
      "              \"end\": 23,\r\n",
      "              \"value\": \"ssh\",\r\n",
      "              \"entity\": \"connection type\"\r\n",
      "            }\r\n",
      "          ]\r\n",
      "        },\r\n",
      "        {\r\n",
      "          \"text\": \"login to server via rest\",\r\n",
      "          \"intent\": \"login\",\r\n",
      "          \"entities\": [\r\n",
      "            {\r\n",
      "              \"start\": 9,\r\n",
      "              \"end\": 15,\r\n",
      "              \"value\": \"server\",\r\n",
      "              \"entity\": \"device\"\r\n",
      "            },\r\n",
      "            {\r\n",
      "              \"start\": 20,\r\n",
      "              \"end\": 24,\r\n",
      "              \"value\": \"rest\",\r\n",
      "              \"entity\": \"connection type\"\r\n",
      "            }\r\n",
      "          ]\r\n",
      "        },\r\n",
      "        {\r\n",
      "          \"text\": \"connect to server via ssh\",\r\n",
      "          \"intent\": \"login\",\r\n",
      "          \"entities\": [\r\n",
      "            {\r\n",
      "              \"start\": 11,\r\n",
      "              \"end\": 17,\r\n",
      "              \"value\": \"server\",\r\n",
      "              \"entity\": \"device\"\r\n",
      "            },\r\n",
      "            {\r\n",
      "              \"start\": 22,\r\n",
      "              \"end\": 25,\r\n",
      "              \"value\": \"ssh\",\r\n",
      "              \"entity\": \"connection type\"\r\n",
      "            }\r\n",
      "          ]\r\n",
      "        },\r\n",
      "        {\r\n",
      "          \"text\": \"connect to server via rest\",\r\n",
      "          \"intent\": \"login\",\r\n",
      "          \"entities\": [\r\n",
      "            {\r\n",
      "              \"start\": 11,\r\n",
      "              \"end\": 17,\r\n",
      "              \"value\": \"server\",\r\n",
      "              \"entity\": \"device\"\r\n",
      "            },\r\n",
      "            {\r\n",
      "              \"start\": 22,\r\n",
      "              \"end\": 26,\r\n",
      "              \"value\": \"rest\",\r\n",
      "              \"entity\": \"connection type\"\r\n",
      "            }\r\n",
      "          ]\r\n",
      "        }\r\n",
      "      \r\n",
      "        \r\n",
      "      ]\r\n",
      "    }\r\n",
      "  }\r\n"
     ]
    }
   ],
   "source": [
    "!cat rasa_data_servers.json"
   ]
  },
  {
   "cell_type": "code",
   "execution_count": 4,
   "metadata": {},
   "outputs": [],
   "source": [
    "trainer = Trainer(config.load('config_spacy.yaml'))"
   ]
  },
  {
   "cell_type": "code",
   "execution_count": 5,
   "metadata": {},
   "outputs": [
    {
     "data": {
      "text/plain": [
       "<rasa_nlu.model.Interpreter at 0x7f8203179dd0>"
      ]
     },
     "execution_count": 5,
     "metadata": {},
     "output_type": "execute_result"
    }
   ],
   "source": [
    "trainer.train(train_data)"
   ]
  },
  {
   "cell_type": "code",
   "execution_count": 6,
   "metadata": {},
   "outputs": [],
   "source": [
    "model_directory = trainer.persist('projects')"
   ]
  },
  {
   "cell_type": "code",
   "execution_count": 7,
   "metadata": {},
   "outputs": [],
   "source": [
    "interpreter = Interpreter.load(model_directory)"
   ]
  },
  {
   "cell_type": "code",
   "execution_count": 8,
   "metadata": {},
   "outputs": [
    {
     "data": {
      "text/plain": [
       "{'intent': None,\n",
       " 'entities': [],\n",
       " 'intent_ranking': [],\n",
       " 'text': 'connect to server'}"
      ]
     },
     "execution_count": 8,
     "metadata": {},
     "output_type": "execute_result"
    }
   ],
   "source": [
    "interpreter.parse(\"connect to server\")"
   ]
  },
  {
   "cell_type": "code",
   "execution_count": 9,
   "metadata": {},
   "outputs": [
    {
     "data": {
      "text/plain": [
       "{'intent': None,\n",
       " 'entities': [{'start': 4,\n",
       "   'end': 8,\n",
       "   'value': 'rest',\n",
       "   'entity': 'connection type',\n",
       "   'confidence': 0.8426171266335787,\n",
       "   'extractor': 'CRFEntityExtractor'}],\n",
       " 'intent_ranking': [],\n",
       " 'text': 'via rest join to server'}"
      ]
     },
     "execution_count": 9,
     "metadata": {},
     "output_type": "execute_result"
    }
   ],
   "source": [
    "interpreter.parse(\"via rest join to server\")"
   ]
  },
  {
   "cell_type": "code",
   "execution_count": null,
   "metadata": {},
   "outputs": [],
   "source": []
  },
  {
   "cell_type": "code",
   "execution_count": null,
   "metadata": {},
   "outputs": [],
   "source": []
  }
 ],
 "metadata": {
  "celltoolbar": "Tags",
  "kernelspec": {
   "display_name": "Python 3",
   "language": "python",
   "name": "python3"
  },
  "language_info": {
   "codemirror_mode": {
    "name": "ipython",
    "version": 3
   },
   "file_extension": ".py",
   "mimetype": "text/x-python",
   "name": "python",
   "nbconvert_exporter": "python",
   "pygments_lexer": "ipython3",
   "version": "3.7.6"
  }
 },
 "nbformat": 4,
 "nbformat_minor": 4
}
